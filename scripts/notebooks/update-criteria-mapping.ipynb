{
 "cells": [
  {
   "cell_type": "code",
   "execution_count": 2,
   "id": "optical-ministry",
   "metadata": {},
   "outputs": [],
   "source": [
    "import json\n",
    "import csv"
   ]
  },
  {
   "cell_type": "code",
   "execution_count": 4,
   "id": "conventional-franklin",
   "metadata": {},
   "outputs": [],
   "source": [
    "mapping = {}\n",
    "with open('/home/jittat/Dropbox/adm64/criterias/r3/criteria-mapping.csv') as f:\n",
    "    reader = csv.DictReader(f)\n",
    "    for r in reader:\n",
    "        mapping[r['criteria_key']] = r"
   ]
  },
  {
   "cell_type": "code",
   "execution_count": 5,
   "id": "royal-blame",
   "metadata": {},
   "outputs": [],
   "source": [
    "with open('/home/jittat/Dropbox/adm64/criterias/r3/tcas3-1-criterias-updated-20210509.json') as f:\n",
    "    criterias = json.loads(f.read())"
   ]
  },
  {
   "cell_type": "code",
   "execution_count": 15,
   "id": "sonic-paragraph",
   "metadata": {},
   "outputs": [
    {
     "name": "stdout",
     "output_type": "stream",
     "text": [
      "10020109140101A--5624 {'criteria_key': '10020109140101A--5624', 'required_score_criteria': {}, 'scoring_score_criteria': [], 'faculty': 'คณะสัตวแพทยศาสตร์', 'title': 'สพ.บ.', 'slot': 65, 'faculty_id': 10, 'program_type_code': 'A', 'program_code': '10020109140101A', 'major_code': ''}\n",
      "10020326620101A--9989 {'criteria_key': '10020326620101A--9989', 'required_score_criteria': {'min_gpax': 2.5, 'min_onet03': 16.0, 'additional_condition': 'สำหรับผู้สมัครที่ใช้คะแนน 9 วิชาสามัญ'}, 'scoring_score_criteria': [['UDAT_09', 20], ['UDAT_19', 20], ['UDAT_29', 20], ['UDAT_39', 40]], 'faculty': 'คณะวิทยาการจัดการ', 'title': 'บธ.บ. สาขาวิชาการจัดการโรงแรมและท่องเที่ยว', 'slot': 30, 'faculty_id': 21, 'program_type_code': 'A', 'program_code': '10020326620101A', 'major_code': ''}\n",
      "10020326620101A--10080 {'criteria_key': '10020326620101A--10080', 'required_score_criteria': {'min_gpax': 2.5, 'min_onet03': 16.0, 'additional_condition': 'สำหรับผู้สมัครที่ใช้คะแนน GAT/PAT'}, 'scoring_score_criteria': [['GAT', 6000], ['PAT_1', 4000]], 'faculty': 'คณะวิทยาการจัดการ', 'title': 'บธ.บ. สาขาวิชาการจัดการโรงแรมและท่องเที่ยว', 'slot': 0, 'faculty_id': 21, 'program_type_code': 'A', 'program_code': '10020326620101A', 'major_code': ''}\n",
      "10020326620101B--10009 {'criteria_key': '10020326620101B--10009', 'required_score_criteria': {'min_gpax': 2.0, 'min_onet03': 16.0, 'additional_condition': 'สำหรับผู้สมัครที่ใช้คะแนน GAT/PAT'}, 'scoring_score_criteria': [['GAT', 6000], ['PAT_1', 4000]], 'faculty': 'คณะวิทยาการจัดการ', 'title': 'บธ.บ. สาขาวิชาการจัดการโรงแรมและท่องเที่ยว (ภาคพิเศษ)', 'slot': 15, 'faculty_id': 21, 'program_type_code': 'B', 'program_code': '10020326620101B', 'major_code': ''}\n",
      "10020326620101B--10018 {'criteria_key': '10020326620101B--10018', 'required_score_criteria': {'min_gpax': 2.0, 'min_onet03': 16.0, 'additional_condition': 'สำหรับผู้สมัครที่ใช้คะแนน 9 วิชาสามัญ'}, 'scoring_score_criteria': [['UDAT_09', 20], ['UDAT_19', 20], ['UDAT_29', 20], ['UDAT_39', 40]], 'faculty': 'คณะวิทยาการจัดการ', 'title': 'บธ.บ. สาขาวิชาการจัดการโรงแรมและท่องเที่ยว (ภาคพิเศษ)', 'slot': 0, 'faculty_id': 21, 'program_type_code': 'B', 'program_code': '10020326620101B', 'major_code': ''}\n",
      "10020118620101A--10085 {'criteria_key': '10020118620101A--10085', 'required_score_criteria': {'min_gpax': 2.0, 'min_onet03': 16.0, 'min_gat': 1.0}, 'scoring_score_criteria': [['GAT', 1]], 'faculty': 'โครงการจัดตั้งวิทยาเขตสุพรรณบุรี', 'title': 'บธ.บ. สาขาวิชาการจัดการโรงแรมและท่องเที่ยว', 'slot': 30, 'faculty_id': 30, 'program_type_code': 'A', 'program_code': '10020118620101A', 'major_code': ''}\n"
     ]
    }
   ],
   "source": [
    "for c in criterias:\n",
    "    if c['criteria_key'] not in mapping:\n",
    "        print(c['criteria_key'], c)\n",
    "        continue\n",
    "    m = mapping[c['criteria_key']]\n",
    "    c['program_id'] = m['program_id']\n",
    "    c['major_id'] = m['major_id']\n",
    "    c['project_id'] = m['project_id']"
   ]
  },
  {
   "cell_type": "code",
   "execution_count": 14,
   "id": "significant-garage",
   "metadata": {},
   "outputs": [
    {
     "data": {
      "text/plain": [
       "dict_keys(['program_id', 'major_id', 'project_id', 'description', 'condition', 'criteria_key', 'required_score_criteria', 'scoring_score_criteria', 'faculty', 'title', 'slot', 'faculty_id', 'program_type_code'])"
      ]
     },
     "execution_count": 14,
     "metadata": {},
     "output_type": "execute_result"
    }
   ],
   "source": [
    "m.keys()"
   ]
  },
  {
   "cell_type": "code",
   "execution_count": 16,
   "id": "after-pleasure",
   "metadata": {},
   "outputs": [],
   "source": [
    "with open('/home/jittat/Dropbox/adm64/criterias/r3/tcas3-1-criterias-updated-20210509-with-projectid.json','w') as f:\n",
    "    f.write(json.dumps(criterias, indent=1))"
   ]
  },
  {
   "cell_type": "code",
   "execution_count": null,
   "id": "super-belly",
   "metadata": {},
   "outputs": [],
   "source": []
  }
 ],
 "metadata": {
  "kernelspec": {
   "display_name": "Python 3",
   "language": "python",
   "name": "python3"
  },
  "language_info": {
   "codemirror_mode": {
    "name": "ipython",
    "version": 3
   },
   "file_extension": ".py",
   "mimetype": "text/x-python",
   "name": "python",
   "nbconvert_exporter": "python",
   "pygments_lexer": "ipython3",
   "version": "3.6.12"
  }
 },
 "nbformat": 4,
 "nbformat_minor": 5
}
